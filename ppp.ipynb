{
 "cells": [
  {
   "cell_type": "markdown",
   "id": "c39df931-74ba-4a77-a3e2-3b733cedf899",
   "metadata": {},
   "source": [
    "## Image Browser"
   ]
  },
  {
   "cell_type": "code",
   "execution_count": 1,
   "id": "353f48f0-9790-4424-a9ac-7ed9dfc1db6f",
   "metadata": {},
   "outputs": [],
   "source": [
    "import torch\n",
    "import torchvision.transforms as transforms\n",
    "from PIL import Image\n",
    "from model import ResNet\n",
    "\n",
    "model = ResNet()\n",
    "\n",
    "#模型\n",
    "model = torch.load('./w/best.pth')\n",
    "\n",
    "model.eval()\n",
    "preprocess = transforms.Compose([\n",
    "    transforms.Resize((224, 224)),\n",
    "    transforms.ToTensor(),\n",
    "    transforms.Normalize(mean=[0.485, 0.456, 0.406], std=[0.229, 0.224, 0.225])\n",
    "])"
   ]
  },
  {
   "cell_type": "code",
   "execution_count": 2,
   "id": "2c8dd023-efc3-43ad-96b9-7d6197127eca",
   "metadata": {},
   "outputs": [
    {
     "data": {
      "application/vnd.jupyter.widget-view+json": {
       "model_id": "e7ab2a799da84fc5acef46ef110efb8c",
       "version_major": 2,
       "version_minor": 0
      },
      "text/plain": [
       "interactive(children=(FileUpload(value=(), description='Upload'), Output()), _dom_classes=('widget-interact',)…"
      ]
     },
     "execution_count": 2,
     "metadata": {},
     "output_type": "execute_result"
    }
   ],
   "source": [
    "from ipywidgets import FileUpload, Image, VBox, interactive, IntText, Output\n",
    "from IPython.display import display\n",
    "from PIL import Image as PILImage\n",
    "import io\n",
    "\n",
    "file = open(\"black_boi.png\", \"rb\")\n",
    "image = file.read()\n",
    "image_widget = Image(\n",
    "    value=image,\n",
    "    width=224,\n",
    "    height=224,\n",
    ")\n",
    "\n",
    "uploader = FileUpload()\n",
    "\n",
    "index_to_name = {\n",
    "    0: \"伊布\",\n",
    "    1: \"太阳伊布\",\n",
    "    2: \"火伊布\",\n",
    "    3: \"冰伊布\",\n",
    "    4: \"雷伊布\",\n",
    "    5: \"叶伊布\",\n",
    "    6: \"仙子伊布\",\n",
    "    7: \"月亮伊布\",\n",
    "    8: \"水伊布\",\n",
    "}\n",
    "\n",
    "def func(c):\n",
    "    display(image_widget)\n",
    "    if len(c) != 0:\n",
    "        image_widget.value = c[0]['content']\n",
    "        image = PILImage.open(io.BytesIO(image_widget.value))\n",
    "        image = image.convert('RGB')\n",
    "\n",
    "        input_tensor = preprocess(image)\n",
    "        input_batch = input_tensor.unsqueeze(0)\n",
    "\n",
    "        with torch.no_grad():\n",
    "            output = model(input_batch)\n",
    "\n",
    "        probabilities = torch.softmax(output, dim=1)[0]\n",
    "        max_value, max_index = torch.max(probabilities, dim=0)\n",
    "        name = index_to_name[max_index.item()]\n",
    "        def hello(max_value, name):\n",
    "            print(\"最大概率:\", max_value.item())\n",
    "            print(\"最大概率所在的标签:\", name)\n",
    "        hello(max_value, name)\n",
    "\n",
    "interactive_plot = interactive(func, c=uploader)\n",
    "interactive_plot"
   ]
  },
  {
   "cell_type": "code",
   "execution_count": null,
   "id": "c5798859-4ef9-4c43-bb3c-b93e2c4a2bc4",
   "metadata": {},
   "outputs": [],
   "source": []
  }
 ],
 "metadata": {
  "kernelspec": {
   "display_name": "Python 3 (ipykernel)",
   "language": "python",
   "name": "python3"
  },
  "language_info": {
   "codemirror_mode": {
    "name": "ipython",
    "version": 3
   },
   "file_extension": ".py",
   "mimetype": "text/x-python",
   "name": "python",
   "nbconvert_exporter": "python",
   "pygments_lexer": "ipython3",
   "version": "3.8.16"
  }
 },
 "nbformat": 4,
 "nbformat_minor": 5
}
